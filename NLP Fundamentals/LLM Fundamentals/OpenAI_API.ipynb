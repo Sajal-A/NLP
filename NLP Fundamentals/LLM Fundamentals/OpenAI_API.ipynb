{
 "cells": [
  {
   "cell_type": "markdown",
   "id": "bd59713f",
   "metadata": {},
   "source": [
    "Install openai - The OpenAI Python library provides convenient access to the OpenAI REST API.\n",
    "- *!pip install openai*\n",
    "\n",
    "Install python-dotenv - python-dotenv reads key-value pairs from a .env file and can set them as environment variables. It helps in the development of applications\n",
    "- *!pip install python-dotenv*\n"
   ]
  },
  {
   "cell_type": "code",
   "execution_count": 1,
   "id": "0b6f0c20-d386-4b57-8727-8375cac07533",
   "metadata": {},
   "outputs": [],
   "source": [
    "import openai\n",
    "# from dotenv import load_dotenv\n",
    "import os\n",
    "import warnings\n",
    "import json\n",
    "warnings.filterwarnings(\"ignore\")\n"
   ]
  },
  {
   "cell_type": "markdown",
   "id": "4bdceae3-e390-4ab7-8746-f6e07c7df182",
   "metadata": {},
   "source": [
    "### Chat Completion API"
   ]
  },
  {
   "cell_type": "code",
   "execution_count": 2,
   "id": "658d21cd",
   "metadata": {},
   "outputs": [
    {
     "data": {
      "text/plain": [
       "ChatCompletion(id='chatcmpl-BoPKqkjU6nTwkDA3qIEZgWilvAjg9', choices=[Choice(finish_reason='stop', index=0, logprobs=None, message=ChatCompletionMessage(content='1. **Selfless Action**: Perform your duties without attachment to the results, as true fulfillment comes from serving a purpose rather than seeking rewards.\\n\\n2. **Inner Peace**: Maintain equanimity in success and failure, recognizing that external circumstances are transient, while inner peace is eternal.\\n\\n3. **Divine Connection**: Foster a deep relationship with the divine through devotion and surrender, as this leads to ultimate wisdom and liberation from suffering.', refusal=None, role='assistant', annotations=[], audio=None, function_call=None, tool_calls=None))], created=1751353488, model='gpt-4o-mini-2024-07-18', object='chat.completion', service_tier='default', system_fingerprint='fp_34a54ae93c', usage=CompletionUsage(completion_tokens=90, prompt_tokens=22, total_tokens=112, completion_tokens_details=CompletionTokensDetails(accepted_prediction_tokens=0, audio_tokens=0, reasoning_tokens=0, rejected_prediction_tokens=0), prompt_tokens_details=PromptTokensDetails(audio_tokens=0, cached_tokens=0)))"
      ]
     },
     "execution_count": 2,
     "metadata": {},
     "output_type": "execute_result"
    }
   ],
   "source": [
    "from openai import OpenAI\n",
    "\n",
    "client = OpenAI(\n",
    "  api_key=\"API_KEY\"\n",
    ")\n",
    "#example-1\n",
    "completion = client.chat.completions.create(\n",
    "  model=\"gpt-4o-mini\",\n",
    "  messages=[\n",
    "    {\n",
    "        \"role\": \"user\", \n",
    "        \"content\": \"Write 3 lesson in 3 lines from the Bhagwad Gita.\"\n",
    "    }\n",
    "  ]\n",
    ")\n",
    "completion"
   ]
  },
  {
   "cell_type": "code",
   "execution_count": 3,
   "id": "95515d10-7ee1-4cdf-aabc-360dd83577a3",
   "metadata": {},
   "outputs": [
    {
     "data": {
      "text/plain": [
       "'1. **Selfless Action**: Perform your duties without attachment to the results, as true fulfillment comes from serving a purpose rather than seeking rewards.\\n\\n2. **Inner Peace**: Maintain equanimity in success and failure, recognizing that external circumstances are transient, while inner peace is eternal.\\n\\n3. **Divine Connection**: Foster a deep relationship with the divine through devotion and surrender, as this leads to ultimate wisdom and liberation from suffering.'"
      ]
     },
     "execution_count": 3,
     "metadata": {},
     "output_type": "execute_result"
    }
   ],
   "source": [
    "completion.choices[0].message.content"
   ]
  },
  {
   "cell_type": "code",
   "execution_count": null,
   "id": "297a825f-72a8-40cc-8a8d-65ba075867db",
   "metadata": {},
   "outputs": [],
   "source": [
    "#Example-2"
   ]
  },
  {
   "cell_type": "code",
   "execution_count": 21,
   "id": "da6844dc-fcb3-45a0-b8e1-4f59eabb964d",
   "metadata": {},
   "outputs": [
    {
     "name": "stdout",
     "output_type": "stream",
     "text": [
      "{\n",
      "  \"id\": \"chatcmpl-Blsaw6V4S84tuQbEB0R8HcZLobsNp\",\n",
      "  \"choices\": [\n",
      "    {\n",
      "      \"finish_reason\": \"stop\",\n",
      "      \"index\": 0,\n",
      "      \"logprobs\": null,\n",
      "      \"message\": {\n",
      "        \"content\": \"To solve \\\\( 2! + 3 \\\\), we first need to calculate \\\\( 2! \\\\):\\n\\n\\\\[\\n2! = 2 \\\\times 1 = 2\\n\\\\]\\n\\nNow, we can add 3:\\n\\n\\\\[\\n2! + 3 = 2 + 3 = 5\\n\\\\]\\n\\nSo, \\\\( 2! + 3 = 5 \\\\).\",\n",
      "        \"refusal\": null,\n",
      "        \"role\": \"assistant\",\n",
      "        \"annotations\": [],\n",
      "        \"audio\": null,\n",
      "        \"function_call\": null,\n",
      "        \"tool_calls\": null\n",
      "      }\n",
      "    }\n",
      "  ],\n",
      "  \"created\": 1750750978,\n",
      "  \"model\": \"gpt-4o-mini-2024-07-18\",\n",
      "  \"object\": \"chat.completion\",\n",
      "  \"service_tier\": \"default\",\n",
      "  \"system_fingerprint\": \"fp_34a54ae93c\",\n",
      "  \"usage\": {\n",
      "    \"completion_tokens\": 80,\n",
      "    \"prompt_tokens\": 28,\n",
      "    \"total_tokens\": 108,\n",
      "    \"completion_tokens_details\": {\n",
      "      \"accepted_prediction_tokens\": 0,\n",
      "      \"audio_tokens\": 0,\n",
      "      \"reasoning_tokens\": 0,\n",
      "      \"rejected_prediction_tokens\": 0\n",
      "    },\n",
      "    \"prompt_tokens_details\": {\n",
      "      \"audio_tokens\": 0,\n",
      "      \"cached_tokens\": 0\n",
      "    }\n",
      "  }\n",
      "}\n"
     ]
    }
   ],
   "source": [
    "completion1 = client.chat.completions.create(\n",
    "  model=\"gpt-4o-mini\",\n",
    "  messages=[\n",
    "    {\n",
    "        \"role\": \"system\", \n",
    "        \"content\": \"You are a great math tutor.\"\n",
    "    },\n",
    "    {\n",
    "        \"role\": \"user\", \n",
    "        \"content\": \"What is (2! + 3)? \"\n",
    "    }\n",
    "  ]\n",
    ")\n",
    "comp1 = json.dumps(completion1.model_dump(), indent=2)\n",
    "print(comp1)"
   ]
  },
  {
   "cell_type": "code",
   "execution_count": 23,
   "id": "3c5690cb-2dd9-4117-a3d7-8f248438f771",
   "metadata": {},
   "outputs": [
    {
     "name": "stdout",
     "output_type": "stream",
     "text": [
      "To solve \\( 2! + 3 \\), we first need to calculate \\( 2! \\):\n",
      "\n",
      "\\[\n",
      "2! = 2 \\times 1 = 2\n",
      "\\]\n",
      "\n",
      "Now, we can add 3:\n",
      "\n",
      "\\[\n",
      "2! + 3 = 2 + 3 = 5\n",
      "\\]\n",
      "\n",
      "So, \\( 2! + 3 = 5 \\).\n"
     ]
    }
   ],
   "source": [
    "print(completion1.choices[0].message.content)"
   ]
  },
  {
   "cell_type": "markdown",
   "id": "54bbeff7-8a48-42ee-9b81-5469f70b23c2",
   "metadata": {},
   "source": [
    "### Response API"
   ]
  },
  {
   "cell_type": "code",
   "execution_count": 15,
   "id": "7df2568a-3f7a-4d93-9a90-0b46cb9c5001",
   "metadata": {},
   "outputs": [
    {
     "name": "stdout",
     "output_type": "stream",
     "text": [
      "Response(id='resp_685a4d7678d4819ab2bfd88f98cd043206c012658bb8e950', created_at=1750748534.0, error=None, incomplete_details=None, instructions=None, metadata={}, model='gpt-4o-mini-2024-07-18', object='response', output=[ResponseOutputMessage(id='msg_685a4d76ed44819a9dab0f6ec8212cd206c012658bb8e950', content=[ResponseOutputText(annotations=[], text='Once upon a time, in a shimmering forest, a kind unicorn named Luna discovered a hidden glade filled with sparkling flowers and twinkling stars. Every night, she shared her magical glow with the forest creatures, lighting their dreams with hope and joy. As the moonlight danced around them, Luna whispered, \"Together, we can create magic in the world,\" and everyone fell asleep with smiles on their faces.', type='output_text', logprobs=None)], role='assistant', status='completed', type='message')], parallel_tool_calls=True, temperature=1.0, tool_choice='auto', tools=[], top_p=1.0, background=False, max_output_tokens=None, previous_response_id=None, prompt=None, reasoning=Reasoning(effort=None, generate_summary=None, summary=None), service_tier='default', status='completed', text=ResponseTextConfig(format=ResponseFormatText(type='text')), truncation='disabled', usage=ResponseUsage(input_tokens=18, input_tokens_details=InputTokensDetails(cached_tokens=0), output_tokens=84, output_tokens_details=OutputTokensDetails(reasoning_tokens=0), total_tokens=102), user=None, store=True)\n"
     ]
    }
   ],
   "source": [
    "#Basic text example with Responses API\n",
    "response = client.responses.create(\n",
    "  model=\"gpt-4o-mini\",\n",
    "  input=\"Tell me a three sentence bedtime story about a unicorn.\"\n",
    ")\n",
    "print(response)\n"
   ]
  },
  {
   "cell_type": "code",
   "execution_count": 17,
   "id": "7e87ba42-9210-4071-9a24-ff0f9ce2589d",
   "metadata": {},
   "outputs": [
    {
     "name": "stdout",
     "output_type": "stream",
     "text": [
      "{\n",
      "  \"id\": \"resp_685a4d7678d4819ab2bfd88f98cd043206c012658bb8e950\",\n",
      "  \"created_at\": 1750748534.0,\n",
      "  \"error\": null,\n",
      "  \"incomplete_details\": null,\n",
      "  \"instructions\": null,\n",
      "  \"metadata\": {},\n",
      "  \"model\": \"gpt-4o-mini-2024-07-18\",\n",
      "  \"object\": \"response\",\n",
      "  \"output\": [\n",
      "    {\n",
      "      \"id\": \"msg_685a4d76ed44819a9dab0f6ec8212cd206c012658bb8e950\",\n",
      "      \"content\": [\n",
      "        {\n",
      "          \"annotations\": [],\n",
      "          \"text\": \"Once upon a time, in a shimmering forest, a kind unicorn named Luna discovered a hidden glade filled with sparkling flowers and twinkling stars. Every night, she shared her magical glow with the forest creatures, lighting their dreams with hope and joy. As the moonlight danced around them, Luna whispered, \\\"Together, we can create magic in the world,\\\" and everyone fell asleep with smiles on their faces.\",\n",
      "          \"type\": \"output_text\",\n",
      "          \"logprobs\": null\n",
      "        }\n",
      "      ],\n",
      "      \"role\": \"assistant\",\n",
      "      \"status\": \"completed\",\n",
      "      \"type\": \"message\"\n",
      "    }\n",
      "  ],\n",
      "  \"parallel_tool_calls\": true,\n",
      "  \"temperature\": 1.0,\n",
      "  \"tool_choice\": \"auto\",\n",
      "  \"tools\": [],\n",
      "  \"top_p\": 1.0,\n",
      "  \"background\": false,\n",
      "  \"max_output_tokens\": null,\n",
      "  \"previous_response_id\": null,\n",
      "  \"prompt\": null,\n",
      "  \"reasoning\": {\n",
      "    \"effort\": null,\n",
      "    \"generate_summary\": null,\n",
      "    \"summary\": null\n",
      "  },\n",
      "  \"service_tier\": \"default\",\n",
      "  \"status\": \"completed\",\n",
      "  \"text\": {\n",
      "    \"format\": {\n",
      "      \"type\": \"text\"\n",
      "    }\n",
      "  },\n",
      "  \"truncation\": \"disabled\",\n",
      "  \"usage\": {\n",
      "    \"input_tokens\": 18,\n",
      "    \"input_tokens_details\": {\n",
      "      \"cached_tokens\": 0\n",
      "    },\n",
      "    \"output_tokens\": 84,\n",
      "    \"output_tokens_details\": {\n",
      "      \"reasoning_tokens\": 0\n",
      "    },\n",
      "    \"total_tokens\": 102\n",
      "  },\n",
      "  \"user\": null,\n",
      "  \"store\": true\n",
      "}\n"
     ]
    }
   ],
   "source": [
    "import json\n",
    "# Convert entire completion to JSON\n",
    "full_json = json.dumps(response.model_dump(), indent=2)\n",
    "print(full_json)"
   ]
  },
  {
   "cell_type": "code",
   "execution_count": 18,
   "id": "3847b1ee-6d5e-4a13-8274-2265a9ae0775",
   "metadata": {},
   "outputs": [
    {
     "name": "stdout",
     "output_type": "stream",
     "text": [
      "Once upon a time, in a shimmering forest, a kind unicorn named Luna discovered a hidden glade filled with sparkling flowers and twinkling stars. Every night, she shared her magical glow with the forest creatures, lighting their dreams with hope and joy. As the moonlight danced around them, Luna whispered, \"Together, we can create magic in the world,\" and everyone fell asleep with smiles on their faces.\n"
     ]
    }
   ],
   "source": [
    "print(response.output_text)"
   ]
  },
  {
   "cell_type": "code",
   "execution_count": 28,
   "id": "9fcf71d6-d39d-4058-8342-10b4a441093a",
   "metadata": {},
   "outputs": [
    {
     "name": "stdout",
     "output_type": "stream",
     "text": [
      "The teams playing in the picture are Argentina and Brazil, as indicated by their respective jerseys.\n"
     ]
    }
   ],
   "source": [
    "# Image Example\n",
    "response1 = client.responses.create(\n",
    "    model = \"gpt-4o-mini\",\n",
    "    input = [\n",
    "        {\n",
    "            \"role\":\"user\",\n",
    "            \"content\":\"What teams are playing in this picture?\"\n",
    "        },\n",
    "        {\n",
    "            \"role\":\"user\",\n",
    "            \"content\":[\n",
    "                {\n",
    "                    \"type\":\"input_image\",\n",
    "                    \"image_url\":\"https://upload.wikimedia.org/wikipedia/commons/thumb/8/89/ARG-BRA_2008_Olympic_semi-final.jpg/500px-ARG-BRA_2008_Olympic_semi-final.jpg\"\n",
    "                }\n",
    "            ]\n",
    "        }\n",
    "    ]\n",
    ")\n",
    "print(response1.output_text)"
   ]
  },
  {
   "cell_type": "markdown",
   "id": "acc673dd-92fd-49f9-b9c4-6dccad05ae06",
   "metadata": {},
   "source": [
    "*Text Prompting*\n",
    "- Inputs can now be a single string or a list of messages.\n",
    "- The list of roles are:\n",
    "  - system\n",
    "  - developer\n",
    "  - user\n",
    "  - assistant\n",
    "- Introducing instruction parameter"
   ]
  },
  {
   "cell_type": "code",
   "execution_count": 33,
   "id": "4de69d1e-3689-433d-8f91-9ea7b88f698e",
   "metadata": {},
   "outputs": [
    {
     "name": "stdout",
     "output_type": "stream",
     "text": [
      "Ah, in the realm of code where logic flows,  \n",
      "JAVA stands, a mighty prose.  \n",
      "Born in the heart of the nineties’ dawn,  \n",
      "A tale of versatility, a legacy drawn.  \n",
      "\n",
      "With syntax clear, like a river's stream,  \n",
      "It weaves through tasks, fulfilling a dream.  \n",
      "Compile once, run anywhere—  \n",
      "A promise whispered in the developer's air.  \n",
      "\n",
      "From apps that shimmer on handheld screens,  \n",
      "To server-side magic, where data convenes,  \n",
      "Its object-oriented charm, a dance of delight,  \n",
      "Crafting solutions, both sturdy and bright.  \n",
      "\n",
      "Garbage collected, memory's friend,  \n",
      "A safety net woven, a reliable blend.  \n",
      "In every corner of tech's vast expanse,  \n",
      "JAVA invites all to join in the dance.  \n",
      "\n",
      "So here stands JAVA, a beacon of light,  \n",
      "Guiding the coders through day and through night.  \n",
      "In its embrace, creativity sings,  \n",
      "A language of wonder, where innovation springs.\n"
     ]
    }
   ],
   "source": [
    "response2 = client.responses.create(\n",
    "    model = \"gpt-4o-mini\",\n",
    "    instructions = \"talk like a poet.\",\n",
    "    input = \"What is JAVA in programming language?\",\n",
    "    temperature = 0.8\n",
    ")\n",
    "print(response2.output_text)"
   ]
  },
  {
   "cell_type": "code",
   "execution_count": 39,
   "id": "f2dd77c2-a09e-4a5a-a710-a43138dfafc0",
   "metadata": {},
   "outputs": [
    {
     "name": "stdout",
     "output_type": "stream",
     "text": [
      "Yes, semicolons in JavaScript are generally optional due to a feature called Automatic Semicolon Insertion (ASI). This means that the JavaScript interpreter can automatically insert semicolons at the end of statements if they are missing.\n",
      "\n",
      "However, relying on this feature can lead to potential errors and unexpected behavior, especially in certain situations. For example:\n",
      "\n",
      "```javascript\n",
      "let x = 5\n",
      "let y = 10\n",
      "\n",
      "let z = x + y  // This will work, but...\n",
      "```\n",
      "\n",
      "If you accidentally write the following code, it will cause an issue:\n",
      "\n",
      "```javascript\n",
      "let z = x + y\n",
      "[1, 2, 3].forEach(console.log)\n",
      "```\n",
      "\n",
      "Here, JavaScript will interpret it as:\n",
      "\n",
      "```javascript\n",
      "let z = x + y[1, 2, 3].forEach(console.log)\n",
      "```\n",
      "\n",
      "To avoid such confusion and to enhance readability, many developers choose to include semicolons consistently. It's a matter of style, but including them is often considered a good practice.\n",
      "#------------------------------------------------------#\n",
      "#------------------------------------------------------#\n",
      "Aye, matey! In JavaScript, semicolons be often considered optional due to automatic semicolon insertion (ASI). The JavaScript engine will try to insert them where it deems necessary to avoid errors. However, ye be warned! Relyin' solely on ASI can lead to unexpected behavior in yer code.\n",
      "\n",
      "So, while ye might be able to sail the stormy seas of JavaScript without semicolons, it's generally wise to use 'em for clear and reliable code. Best practices recommend keepin' those semicolons in yer treasure chest to avoid any mishaps! Arrr!\n"
     ]
    }
   ],
   "source": [
    "#-----------------------------------------------------------------------\n",
    "# The chain of Command : Hierarchical instructions.\n",
    "#-----------------------------------------------------------------------\n",
    "res1 = client.responses.create(\n",
    "    model = \"gpt-4o-mini\",\n",
    "    input = [\n",
    "        {\n",
    "            \"role\":\"system\",\n",
    "            \"content\":\"Talk like a pirate\"\n",
    "        },\n",
    "        {\n",
    "            \"role\":\"developer\",\n",
    "            \"content\":\"Don't talk like a pirate.\"\n",
    "        },\n",
    "        {\n",
    "            \"role\":\"user\",\n",
    "            \"content\":\"Are semicolons optional in java script?\"\n",
    "        }\n",
    "    ]\n",
    ")\n",
    "print(res1.output_text)\n",
    "print(\"#------------------------------------------------------#\")\n",
    "print(\"#------------------------------------------------------#\")\n",
    "res2 = client.responses.create(\n",
    "    model = \"gpt-4o-mini\",\n",
    "    input = [\n",
    "        {\n",
    "            \"role\":\"system\",\n",
    "            \"content\":\"Don't talk like a pirate\"\n",
    "        },\n",
    "        {\n",
    "            \"role\":\"developer\",\n",
    "            \"content\":\"Talk like a pirate.\"\n",
    "        },\n",
    "        {\n",
    "            \"role\":\"user\",\n",
    "            \"content\":\"Are semicolons optional in java script?\"\n",
    "        }\n",
    "    ]\n",
    ")\n",
    "print(res2.output_text)"
   ]
  }
 ],
 "metadata": {
  "kernelspec": {
   "display_name": "Python 3 (ipykernel)",
   "language": "python",
   "name": "python3"
  },
  "language_info": {
   "codemirror_mode": {
    "name": "ipython",
    "version": 3
   },
   "file_extension": ".py",
   "mimetype": "text/x-python",
   "name": "python",
   "nbconvert_exporter": "python",
   "pygments_lexer": "ipython3",
   "version": "3.12.3"
  }
 },
 "nbformat": 4,
 "nbformat_minor": 5
}
